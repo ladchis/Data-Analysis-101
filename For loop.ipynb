{
 "cells": [
  {
   "cell_type": "markdown",
   "id": "2afe1231",
   "metadata": {},
   "source": [
    "### For loop and Basic Statistics"
   ]
  },
  {
   "cell_type": "code",
   "execution_count": null,
   "id": "96d0d87a",
   "metadata": {},
   "outputs": [],
   "source": [
    "# The for loop is a generic iterator in Python: it can step through the \n",
    "# items in any ordered sequence or other iterable object.\n",
    "\n",
    "#(max, min, Sum,) Mean, Median, mode, Average, Quantile, and Percentile in \n",
    "#1st, 2nd and #3rd ranking.\n",
    "\n",
    "#Python can only return max, min, and Sum, while other Built-in functions\n",
    "#respond in Matplotlib\n",
    "\n",
    "#---reference fom w3chool.com"
   ]
  },
  {
   "cell_type": "code",
   "execution_count": null,
   "id": "c4e3897c",
   "metadata": {},
   "outputs": [],
   "source": [
    "#General format or The syntax of For loop\n",
    "'''for target in object: ---Assign object items to target\n",
    "        statements ---Repeated loop body: use target\n",
    "        else: ---Optional else part\n",
    "        statements ---If we didn't hit a 'break'''"
   ]
  },
  {
   "cell_type": "code",
   "execution_count": 6,
   "id": "b5dac05e",
   "metadata": {},
   "outputs": [],
   "source": [
    "Digits = [1, 2, 3, 4, 5, 6, 7, 8, 9, 0]"
   ]
  },
  {
   "cell_type": "code",
   "execution_count": 8,
   "id": "cfe2f272",
   "metadata": {},
   "outputs": [
    {
     "data": {
      "text/plain": [
       "0"
      ]
     },
     "execution_count": 8,
     "metadata": {},
     "output_type": "execute_result"
    }
   ],
   "source": [
    "min(Digits)"
   ]
  },
  {
   "cell_type": "code",
   "execution_count": 9,
   "id": "bf54f145",
   "metadata": {},
   "outputs": [
    {
     "data": {
      "text/plain": [
       "9"
      ]
     },
     "execution_count": 9,
     "metadata": {},
     "output_type": "execute_result"
    }
   ],
   "source": [
    "max(Digits)"
   ]
  },
  {
   "cell_type": "code",
   "execution_count": 11,
   "id": "d0853ed1",
   "metadata": {},
   "outputs": [
    {
     "data": {
      "text/plain": [
       "45"
      ]
     },
     "execution_count": 11,
     "metadata": {},
     "output_type": "execute_result"
    }
   ],
   "source": [
    "sum(Digits)"
   ]
  },
  {
   "cell_type": "markdown",
   "id": "8d5f5eea",
   "metadata": {},
   "source": [
    "### For loop "
   ]
  },
  {
   "cell_type": "code",
   "execution_count": 19,
   "id": "ffe6ad67",
   "metadata": {},
   "outputs": [
    {
     "name": "stdout",
     "output_type": "stream",
     "text": [
      "alice\n",
      "david\n",
      "carolina\n"
     ]
    }
   ],
   "source": [
    "magicians = ['alice', 'david', 'carolina']\n",
    "\n",
    "for magician in magicians:\n",
    "    print(magician)"
   ]
  },
  {
   "cell_type": "code",
   "execution_count": 21,
   "id": "4faf22bf",
   "metadata": {},
   "outputs": [
    {
     "name": "stdout",
     "output_type": "stream",
     "text": [
      "alice\n",
      "david\n",
      "carolina\n"
     ]
    }
   ],
   "source": [
    "magicians = ['alice', 'david', 'carolina']\n",
    "#We star by creating a Lis of magicians\n",
    "\n",
    "for magician in magicians:\n",
    "#This line tells Python to retrieve the first value from the list magicians\n",
    "# and store it in the variable magician. This first value is 'alice'. Python then\n",
    "# reads the next line:\n",
    "\n",
    "    print(magician)\n",
    "#Python prints the current value of magician, which is still 'alice'. Because\n",
    "# the list contains more values, Python returns to the first line of the loop:"
   ]
  },
  {
   "cell_type": "code",
   "execution_count": 19,
   "id": "d415c698",
   "metadata": {},
   "outputs": [
    {
     "name": "stdout",
     "output_type": "stream",
     "text": [
      "Alice,, that was a great trick we ever seen!\n",
      "I can't wait to see your next trick, Alice,.\n",
      "\n",
      "David, that was a great trick we ever seen!\n",
      "I can't wait to see your next trick, David.\n",
      "\n",
      "Carolina, that was a great trick we ever seen!\n",
      "I can't wait to see your next trick, Carolina.\n",
      "\n",
      "Thankyou everyone. That was a great magic show!\n"
     ]
    }
   ],
   "source": [
    "#more things we can do with for loop\n",
    "magicians = ['alice,', 'david', 'carolina']\n",
    "\n",
    "for magician in magicians:\n",
    "    print(magician.title() + \", that was a great trick we ever seen!\")\n",
    "    print(\"I can't wait to see your next trick, \" + magician.title() + \".\\n\")\n",
    "    \n",
    "print(\"Thankyou everyone. That was a great magic show!\")"
   ]
  },
  {
   "cell_type": "code",
   "execution_count": null,
   "id": "99cf114b",
   "metadata": {},
   "outputs": [],
   "source": [
    "#Avoid indentation error... and syntax error that comes from omitted colon (:)"
   ]
  },
  {
   "cell_type": "code",
   "execution_count": null,
   "id": "b5c24e96",
   "metadata": {},
   "outputs": [],
   "source": [
    "#range(), with list and for loop \n",
    "\n",
    "even_numbers = list(range(2,13,2))\n",
    "\n",
    "for value in even_numbers:\n",
    "    print(value) "
   ]
  },
  {
   "cell_type": "code",
   "execution_count": 30,
   "id": "a5f6c785",
   "metadata": {},
   "outputs": [
    {
     "name": "stdout",
     "output_type": "stream",
     "text": [
      "[1, 4, 9, 16, 25, 36, 49, 64, 81, 100, 121, 144]\n"
     ]
    }
   ],
   "source": [
    "#method 1\n",
    "squares = []\n",
    "\n",
    "for value in range(1,13):\n",
    "    square = value**2\n",
    "    squares.append(square)\n",
    "\n",
    "print(squares)"
   ]
  },
  {
   "cell_type": "code",
   "execution_count": 29,
   "id": "3179cfad",
   "metadata": {},
   "outputs": [
    {
     "name": "stdout",
     "output_type": "stream",
     "text": [
      "[1, 4, 9, 16, 25, 36, 49, 64, 81, 100, 121, 144]\n"
     ]
    }
   ],
   "source": [
    "#method 2\n",
    "squares = []\n",
    "n = range(1,13)\n",
    "\n",
    "for value in n:\n",
    "    square = value**2\n",
    "    squares.append(square)\n",
    "\n",
    "print(squares)"
   ]
  },
  {
   "cell_type": "code",
   "execution_count": 36,
   "id": "cecdd40d",
   "metadata": {},
   "outputs": [
    {
     "name": "stdout",
     "output_type": "stream",
     "text": [
      "[1, 4, 9, 16, 25, 36, 49, 64, 81, 100, 121, 144]\n"
     ]
    }
   ],
   "source": [
    "#method 3\n",
    "squares = []\n",
    "\n",
    "for value in range(1,13):\n",
    "    squares.append(value**2)\n",
    "    \n",
    "print(squares)"
   ]
  },
  {
   "cell_type": "code",
   "execution_count": 37,
   "id": "1030c879",
   "metadata": {},
   "outputs": [
    {
     "name": "stdout",
     "output_type": "stream",
     "text": [
      "[1, 4, 9, 16, 25, 36, 49, 64, 81, 100, 121, 144]\n"
     ]
    }
   ],
   "source": [
    "#method 4\n",
    "\n",
    "square = [value**2 for value in range(1,13)]\n",
    "print(square)"
   ]
  },
  {
   "cell_type": "code",
   "execution_count": 43,
   "id": "e03af650",
   "metadata": {},
   "outputs": [
    {
     "name": "stdout",
     "output_type": "stream",
     "text": [
      "9\n"
     ]
    }
   ],
   "source": [
    "#For loop with if statement  \n",
    "\n",
    "total_3 = 0\n",
    "for value in range(1,8):\n",
    "    if value % 3 == 0:\n",
    "        total_3 += value #: total_3 = total_3 + value \n",
    "        \n",
    "print(total_3)"
   ]
  },
  {
   "cell_type": "code",
   "execution_count": 48,
   "id": "6d097037",
   "metadata": {},
   "outputs": [
    {
     "name": "stdout",
     "output_type": "stream",
     "text": [
      "[3, 5, 6, 9, 10, 12, 15, 18, 20, 21, 24, 25, 27, 30, 33, 35, 36, 39, 40, 42, 45, 48, 50, 51, 54, 55, 57, 60, 63, 65, 66, 69, 70, 72, 75, 78, 80, 81, 84, 85, 87, 90, 93, 95, 96, 99, 100, 102, 105, 108, 110, 111, 114, 115, 117, 120, 123, 125, 126, 129, 130, 132, 135, 138, 140, 141, 144, 145, 147, 150, 153, 155, 156, 159, 160, 162, 165, 168, 170, 171, 174, 175, 177, 180, 183, 185, 186, 189, 190, 192, 195, 198, 200, 201, 204, 205, 207, 210, 213, 215, 216, 219, 220, 222, 225, 228, 230, 231, 234, 235, 237, 240, 243, 245, 246, 249, 250, 252, 255, 258, 260, 261, 264, 265, 267, 270, 273, 275, 276, 279, 280, 282, 285, 288, 290, 291, 294, 295, 297, 300, 303, 305, 306, 309, 310, 312, 315, 318, 320, 321, 324, 325, 327, 330, 333, 335, 336, 339, 340, 342, 345, 348, 350, 351, 354, 355, 357, 360, 363, 365, 366, 369, 370, 372, 375, 378, 380, 381, 384, 385, 387, 390, 393, 395, 396, 399, 400, 402, 405, 408, 410, 411, 414, 415, 417, 420, 423, 425, 426, 429, 430, 432, 435, 438, 440, 441, 444, 445, 447, 450, 453, 455, 456, 459, 460, 462, 465, 468, 470, 471, 474, 475, 477, 480, 483, 485, 486, 489, 490, 492, 495, 498, 500, 501, 504, 505, 507, 510, 513, 515, 516, 519, 520, 522, 525, 528, 530, 531, 534, 535, 537, 540, 543, 545, 546, 549, 550, 552, 555, 558, 560, 561, 564, 565, 567, 570, 573, 575, 576, 579, 580, 582, 585, 588, 590, 591, 594, 595, 597, 600, 603, 605, 606, 609, 610, 612, 615, 618, 620, 621, 624, 625, 627, 630, 633, 635, 636, 639, 640, 642, 645, 648, 650, 651, 654, 655, 657, 660, 663, 665, 666, 669, 670, 672, 675, 678, 680, 681, 684, 685, 687, 690, 693, 695, 696, 699, 700, 702, 705, 708, 710, 711, 714, 715, 717, 720, 723, 725, 726, 729, 730, 732, 735, 738, 740, 741, 744, 745, 747, 750, 753, 755, 756, 759, 760, 762, 765, 768, 770, 771, 774, 775, 777, 780, 783, 785, 786, 789, 790, 792, 795, 798, 800, 801, 804, 805, 807, 810, 813, 815, 816, 819, 820, 822, 825, 828, 830, 831, 834, 835, 837, 840, 843, 845, 846, 849, 850, 852, 855, 858, 860, 861, 864, 865, 867, 870, 873, 875, 876, 879, 880, 882, 885, 888, 890, 891, 894, 895, 897, 900, 903, 905, 906, 909, 910, 912, 915, 918, 920, 921, 924, 925, 927, 930, 933, 935, 936, 939, 940, 942, 945, 948, 950, 951, 954, 955, 957, 960, 963, 965, 966, 969, 970, 972, 975, 978, 980, 981, 984, 985, 987, 990, 993, 995, 996, 999]\n",
      "233168\n"
     ]
    }
   ],
   "source": [
    "sum_1 = []\n",
    "\n",
    "for n in range(1,1000):\n",
    "    if n % 3 == 0:\n",
    "        sum_1.append(n)\n",
    "    elif n % 5 == 0:\n",
    "        sum_1.append(n)\n",
    "print(sum_1) \n",
    "\n",
    "sum_2 = 0\n",
    "for i in sum_1:\n",
    "    sum_2 += i\n",
    "print(sum_2)\n",
    "                    \n",
    "    "
   ]
  },
  {
   "cell_type": "code",
   "execution_count": 5,
   "id": "37ebfb1f",
   "metadata": {},
   "outputs": [
    {
     "name": "stdout",
     "output_type": "stream",
     "text": [
      "99\n"
     ]
    }
   ],
   "source": [
    "total_4 = 0 \n",
    "for f in range(1,100):\n",
    "    if f % 3 == 0 | f % 5 == 0:\n",
    "        total_4 =+ i\n",
    "print(total_4) "
   ]
  },
  {
   "cell_type": "code",
   "execution_count": 6,
   "id": "8d28c6a7",
   "metadata": {},
   "outputs": [],
   "source": [
    "a = [\"apple\", \"banana\", \"republic\"]"
   ]
  },
  {
   "cell_type": "code",
   "execution_count": 21,
   "id": "351efb00",
   "metadata": {},
   "outputs": [
    {
     "name": "stdout",
     "output_type": "stream",
     "text": [
      "B\n",
      "i\n",
      "r\n",
      "o\n",
      "t\n",
      "o\n",
      "j\n",
      "o\n"
     ]
    }
   ],
   "source": [
    "# Looping through a String  \n",
    "for letter in \"Birotojo\":\n",
    "    print(letter)"
   ]
  },
  {
   "cell_type": "code",
   "execution_count": 20,
   "id": "e9b00401",
   "metadata": {},
   "outputs": [
    {
     "name": "stdout",
     "output_type": "stream",
     "text": [
      "a\n",
      "b\n",
      "c\n"
     ]
    }
   ],
   "source": [
    "# Looping through a List   \n",
    "letters = [\"a\", \"b\", \"c\"]\n",
    "for letter in (letters):\n",
    "    print(letter)"
   ]
  },
  {
   "cell_type": "code",
   "execution_count": null,
   "id": "f6c80108",
   "metadata": {},
   "outputs": [],
   "source": [
    "letters = [\"a\", \"b\", \"c\"]\n"
   ]
  },
  {
   "cell_type": "code",
   "execution_count": 19,
   "id": "1cd104c6",
   "metadata": {},
   "outputs": [
    {
     "name": "stdout",
     "output_type": "stream",
     "text": [
      "(0, 'a')\n",
      "(1, 'b')\n",
      "(2, 'c')\n"
     ]
    }
   ],
   "source": [
    "# gettin a Tuple return \n",
    "# When dealing with Tuple, it is read-only, we can't add or remove elements from it  \n",
    "letters = [\"a\", \"b\", \"c\"]\n",
    "for letter in enumerate(letters):\n",
    "    print(letter)"
   ]
  },
  {
   "cell_type": "code",
   "execution_count": 24,
   "id": "6052c6b4",
   "metadata": {},
   "outputs": [
    {
     "name": "stdout",
     "output_type": "stream",
     "text": [
      "Attempt 0\n",
      "Attempt 1\n",
      "Attempt 2\n"
     ]
    }
   ],
   "source": [
    "for number in range(3):\n",
    "    print(\"Attempt\", number)"
   ]
  },
  {
   "cell_type": "code",
   "execution_count": 25,
   "id": "b42569bd",
   "metadata": {},
   "outputs": [
    {
     "name": "stdout",
     "output_type": "stream",
     "text": [
      "Attempt 1\n",
      "Attempt 2\n",
      "Attempt 3\n"
     ]
    }
   ],
   "source": [
    "for number in range(3):\n",
    "    print(\"Attempt\", number + 1)"
   ]
  },
  {
   "cell_type": "code",
   "execution_count": 28,
   "id": "fff5a812",
   "metadata": {},
   "outputs": [
    {
     "name": "stdout",
     "output_type": "stream",
     "text": [
      "Attempt 1 .\n",
      "Attempt 2 ..\n",
      "Attempt 3 ...\n"
     ]
    }
   ],
   "source": [
    "for number in range(3):\n",
    "    print(\"Attempt\", number + 1, (number + 1) * \".\")"
   ]
  },
  {
   "cell_type": "code",
   "execution_count": 29,
   "id": "d9ecf49a",
   "metadata": {},
   "outputs": [
    {
     "name": "stdout",
     "output_type": "stream",
     "text": [
      "Successful\n"
     ]
    }
   ],
   "source": [
    "#For Loop with Boolean\n",
    "Successful = True\n",
    "for number in range(3):\n",
    "    if Successful:\n",
    "        print(\"Successful\")\n",
    "        break"
   ]
  },
  {
   "cell_type": "code",
   "execution_count": 30,
   "id": "82a3f6dd",
   "metadata": {},
   "outputs": [
    {
     "name": "stdout",
     "output_type": "stream",
     "text": [
      "Attempted\n",
      "Successful\n"
     ]
    }
   ],
   "source": [
    "#For Loop with Boolean\n",
    "Successful = True\n",
    "for number in range(3):\n",
    "    print(\"Attempted\")\n",
    "    if Successful:\n",
    "        print(\"Successful\")\n",
    "        break\n",
    "    else:\n",
    "        print(\"Attempted 3 times\")"
   ]
  },
  {
   "cell_type": "code",
   "execution_count": 1,
   "id": "00aaa02c",
   "metadata": {},
   "outputs": [
    {
     "name": "stdout",
     "output_type": "stream",
     "text": [
      "Attempted\n",
      "Attempted\n",
      "Attempted\n",
      "Attempted 3 times and failed\n"
     ]
    }
   ],
   "source": [
    "#For Loop with Boolean\n",
    " \n",
    "Successful = False\n",
    "for number in range(3):\n",
    "    print(\"Attempted\")\n",
    "    if Successful:\n",
    "        print(\"Successful\")\n",
    "        break\n",
    "else:                                       #For-else statement\n",
    "    print(\"Attempted 3 times and failed\")"
   ]
  },
  {
   "cell_type": "code",
   "execution_count": 2,
   "id": "84da5197",
   "metadata": {},
   "outputs": [
    {
     "name": "stdout",
     "output_type": "stream",
     "text": [
      "Attempted\n",
      "Attempted 3 times and failed\n",
      "Attempted\n",
      "Attempted 3 times and failed\n",
      "Attempted\n",
      "Attempted 3 times and failed\n"
     ]
    }
   ],
   "source": [
    "#For Loop with Boolean\n",
    "Successful = False\n",
    "for number in range(3):\n",
    "    print(\"Attempted\")\n",
    "    if Successful:\n",
    "        print(\"Successful\")\n",
    "        break\n",
    "    else:                                    #Else statement \n",
    "        print(\"Attempted 3 times and failed\")"
   ]
  },
  {
   "cell_type": "code",
   "execution_count": null,
   "id": "7344423c",
   "metadata": {},
   "outputs": [],
   "source": []
  },
  {
   "cell_type": "code",
   "execution_count": 17,
   "id": "14538fe7",
   "metadata": {},
   "outputs": [
    {
     "name": "stdout",
     "output_type": "stream",
     "text": [
      "apple\n",
      "banana\n",
      "banana\n",
      "republic\n",
      "republic\n",
      "republic\n"
     ]
    }
   ],
   "source": [
    "#Nested loop\n",
    "for i in range(len(a)):\n",
    "    for j in range(i + 1):\n",
    "        print(a[i])\n",
    "    "
   ]
  },
  {
   "cell_type": "code",
   "execution_count": 3,
   "id": "f6b465d0",
   "metadata": {},
   "outputs": [
    {
     "name": "stdout",
     "output_type": "stream",
     "text": [
      "(0, 1)\n",
      "(0, 2)\n",
      "(0, 3)\n",
      "(1, 1)\n",
      "(1, 2)\n",
      "(1, 3)\n",
      "(2, 1)\n",
      "(2, 2)\n",
      "(2, 3)\n",
      "(3, 1)\n",
      "(3, 2)\n",
      "(3, 3)\n",
      "(4, 1)\n",
      "(4, 2)\n",
      "(4, 3)\n"
     ]
    }
   ],
   "source": [
    "#Nested loop returning in formatted String with coordinate\n",
    "\n",
    "for x in range(5): #outer loop or Parent loop\n",
    "    for y in range(1,4): #inner loop or child loop\n",
    "        print(f\"({x}, {y})\")"
   ]
  },
  {
   "cell_type": "code",
   "execution_count": 4,
   "id": "918abd44",
   "metadata": {},
   "outputs": [
    {
     "name": "stdout",
     "output_type": "stream",
     "text": [
      "2\n",
      "4\n",
      "6\n",
      "8\n",
      "we have 4 even numbers\n"
     ]
    }
   ],
   "source": [
    "#Exercise\n",
    "count = 0\n",
    "for number in range(2, 9, 2):\n",
    "    count += 1              #incrementing count\n",
    "   # print(count)\n",
    "    print(number)\n",
    "print(f\"we have {count} even numbers\")\n",
    "    "
   ]
  },
  {
   "cell_type": "code",
   "execution_count": 18,
   "id": "63c2db3d",
   "metadata": {},
   "outputs": [
    {
     "name": "stdout",
     "output_type": "stream",
     "text": [
      "2\n",
      "4\n",
      "6\n",
      "8\n",
      "we have 4 even numbers\n"
     ]
    }
   ],
   "source": [
    "#Exercise\n",
    "count = 0\n",
    "for number in range(1,10):\n",
    "    if number % 2 == 0:\n",
    "        count += 1          \n",
    "#         print(count)\n",
    "        print(number)\n",
    "print(f\"we have {count} even numbers\")\n",
    "    "
   ]
  },
  {
   "cell_type": "code",
   "execution_count": null,
   "id": "76939e43",
   "metadata": {},
   "outputs": [],
   "source": []
  },
  {
   "cell_type": "code",
   "execution_count": 12,
   "id": "951c1474",
   "metadata": {},
   "outputs": [
    {
     "name": "stdout",
     "output_type": "stream",
     "text": [
      "dlroW olleH\n"
     ]
    }
   ],
   "source": [
    "txt = \"Hello World\"[::-1]\n",
    "print(txt)"
   ]
  },
  {
   "cell_type": "code",
   "execution_count": null,
   "id": "ec61952b",
   "metadata": {},
   "outputs": [],
   "source": []
  }
 ],
 "metadata": {
  "kernelspec": {
   "display_name": "Python 3 (ipykernel)",
   "language": "python",
   "name": "python3"
  },
  "language_info": {
   "codemirror_mode": {
    "name": "ipython",
    "version": 3
   },
   "file_extension": ".py",
   "mimetype": "text/x-python",
   "name": "python",
   "nbconvert_exporter": "python",
   "pygments_lexer": "ipython3",
   "version": "3.9.7"
  }
 },
 "nbformat": 4,
 "nbformat_minor": 5
}
